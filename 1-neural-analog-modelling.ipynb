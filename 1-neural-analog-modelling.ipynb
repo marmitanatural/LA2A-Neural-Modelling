{
 "cells": [
  {
   "cell_type": "markdown",
   "metadata": {},
   "source": [
    "## Neural Analog Modelling \n",
    "Please note that the dataset used for this project is not 100% clean, and the errors from the authors errata page are addressed and resolved in the other notebook `0-data-validation.ipynb`. This is done to ensure that in the below our models are not impacted.\n",
    "### -- Introduction\n",
    "This repo is concerned with modelling analog effects with neural networks. Why? Mostly for curiosity.\n",
    "\n",
    "Most VST effects are typically implemented in C++, using handy frameworks like JUCE which contains libraries to handle many of the typical challenges of plugin design such as cross-platform functionality, DSP, frontend design.. In order to do real analog modelling, one typically needs to have some high level domain knowledge and have the capacity to understand complicated analog circuits present in analog synths and effects, as well as a knowledge of DSP which allows us to model these signals numerically. Other approaches include simulation of physical processes like reverberation.\n",
    "\n",
    "In principle, neural networks are a more high level approach which, presupposing the access to a relevant dataset of dry/wet signals, allow us to model the effects without having to bust out Korg manuals from the 1980s and examine the intricacies of the circuits for their wonderful filters. \n",
    "\n",
    "There are clearly many limits in using neural networks to process audio. Some include:\n",
    "- Clean datasets of dry/wet signals are not typically easy to come by, and are labour intensive to repair. Hence NNs are not always a suitable approach for modelling analog effects.\n",
    "- Neural networks are typically quite bulky, and implemented in Python (which is typically slower compared to DSP implementations in C++). Although not impossible (see work of [C. Steinmetz](https://scholar.google.com/citations?user=jSvSfIMAAAAJ&hl=en)), this makes it difficult to use neural networks to process signals in real time. This inherent slowness makes a lot of neural approaches only suitable to asynchronous audio processing. Sequence to sequence audio modelling is notoriously slow, especially given the large size of common audio models used today e.g [Demucs](https://github.com/facebookresearch/demucs) (for source separation). \n",
    "\n",
    "I am interesting in exploring these limits, especially the second one. \n",
    "\n",
    "### -- Data \n",
    "In this case, we use the [SignalTrain](https://zenodo.org/records/3824876) dataset from 2019 which contains various dry and wet recordings, where the wet recordings are processed with an analog compressor, the Universal Audio LA-2A. \n",
    "\n",
    "This compressor is a very simple one, and we will be concerned with modelling the signal using only two parameters on the compressor:\n",
    "- The switch between compression and limiting\n",
    "- The peak reduction\n",
    "\n",
    "The information about the parameters of the compressor are contained in the file names. In particular, the value between 0-100 represents the peak reduction knob, whereas the binary value 0/1 represents the switch between compression (0) and limiting (1). The authors say that there was no changes to the input or output gains, and that only these two parameters above were changed during recording.\n",
    "\n",
    "### -- Audio\n",
    "The audio in this dataset has a sampling rate of 44.1kHz and is mono, as the original analog LA-2A was designed to process mono signals. The individual audio files actually contain a \"collage\" of different pieces of music which are stitched seamlessly together. The whole recording will be passed through the compressor to obtain the wet signal.\n",
    "\n",
    "I followed the advice of the authors in cleaning up errors in the dataset (removing / moving certain files) in other notebook `data_validation.ipynb`. I cross correlated all the signals to see if any signals except those mentioned by the authors had a phase shift between the dry and wet signals. To simplify my life, I found all the signals which had a relative phase shift and removed them, keeping only perfectly correlated dry/ wet pairs; which to the credit of the authors, was the vast majority of the signals."
   ]
  },
  {
   "cell_type": "markdown",
   "metadata": {},
   "source": [
    "## Compressors\n",
    "\n",
    "In the context of music production we are interested in Dynamic Range Compressors. These are effects which reduce the dynamic range (the gap between the loudest and quietest parts of a signal) via downward or upward compression (reducing the gain of loud sounds, and increasing the gain of quiet sounds respectively). They have several parameters, the most important ones being:\n",
    "\n",
    "- Threshold: the volume at which the compressor will be activated. In the case of downward compression, if the threshold is -6dB, and the signal peaks at -10dB, the compressor will never be activated, if it is, the compressor will activate and trigger gain reduction.  On the other hand, in upward compression, if the threshold is -6dB, any sound below this threshold (e.g -10dB) will activate the compression and cause a gain increase.\n",
    "\n",
    "- Ratio: a parameter which controls the amount of compression applied to an incoming signal. It is called a ratio because it is typically defined in such a way that if the ratio is 4:1, any signal 4dB **over** the threshold will be reduced to 1dB over the threshold.\n",
    "\n",
    "Some other common parameters include attack and release, which delay or extend resp. the activation of the compressor. e.g if the attack is 50ms, when the compressor detects a signal which crosses the threshold, it will delay its activation by 50ms. The release, if 50ms, will extend the action of the compressor by 50ms. The effect of attack / release is often not considered in a step function like manner, but will often be smoother, where for example during the attack phase of 50ms after the detection of a signal crossing the compressor's threshold, the action of the compressor may be linearly ramped up to its full action. \n",
    "\n",
    "Another important control is the \"knee\" setting. In the case of a \"hard knee\" compressor, the compression will only activate once the signal crosses the threshold, triggering gain reduction. In the case of a soft knee compressor, this transition point is 'blurred' and less abrupt, even for signals below the threshold, the gain may be attenuated slightly by the compressor. This results in a 'smoother' transition between compressor and uncompressed parts of the signal. \n",
    "\n",
    "Here is an example of a minimal compressor implemented in numpy"
   ]
  },
  {
   "cell_type": "code",
   "execution_count": 40,
   "metadata": {},
   "outputs": [],
   "source": [
    "import numpy as np\n",
    "\n",
    "def compressor(signal, threshold, ratio):\n",
    "    compressed_signal = np.zeros_like(signal)\n",
    "    for i in range(len(signal)):\n",
    "        if np.abs(signal[i]) > threshold:\n",
    "            compressed_signal[i] = np.sign(signal[i]) * (threshold + (np.abs(signal[i]) - threshold) / ratio)\n",
    "        else:\n",
    "            compressed_signal[i] = signal[i]\n",
    "    return compressed_signal"
   ]
  },
  {
   "cell_type": "markdown",
   "metadata": {},
   "source": [
    "Something important to remember is the units in which you are working. In a 16 bit system, a sample can take any value between -32768 and +32767 (2^16 values hence 16 \"bit\"). If a signal exceeds this maximum value, it may result in clipping (the value of the signal will be cut off at the maximum value). From these raw numbers, we can define the dBFS units (decibels relative to full scale), where here our \"full scale\" value will be the maximum value of our amplitude in our 16 bit system, +32767. The conversion can be defined as $ X \\text(dB) = 20 \\text{log}_{10} \\left( \\frac{\\text{Amplitude}}{32767} \\right)$. If we reach our max value, notice that the corresponding value in dBFS will be 0dB, as expected. \n",
    "\n",
    "dB is commonly used because humans have a logarithmic perception of volume - i.e doubling the intensity of a signal will not be perceived by humans as \"twice as loud\" indeed the human perception of loudness more closely mimics that of the logarithm of intensity, rather than a linear relationship - interestingly, loudness is a \"psychological\" quantity, and humans even have different perceptions of loudness depending on the frequency of the incoming signal - that means that a signal at 2kHz and 15kHz with the same intensity will not be perceived as the same loudness by a human. For further details you can read about Fletcher-Munson curves which discuss this phenomenon."
   ]
  },
  {
   "cell_type": "markdown",
   "metadata": {},
   "source": [
    "## Metadata Preparation \n",
    "It is common when working with data such as audio to keep a metadata dataframe which contains important information about the audio that is not contained in the raw audio signal, so that we can feed this information to our model. Whether compression or limiting is being applied is an example of such metadata. The authors did not include such a metadata frame i.e a df with each row being a track, with a unique id, the paths to the raw and processed audio, and the compression settings applied, so we have to create it ourselves from the filenames provided."
   ]
  },
  {
   "cell_type": "markdown",
   "metadata": {},
   "source": [
    "Our data consists of some raw audio files of the form e.g `./data/<split>/input_XXX_.wav` and some corresponding processed audio files `./data/<split>.target_XXX_LA2A_YY__Z__WW.wav`. The compression parameters are contained in the file name of the processed file. The parameters are the following:\n",
    "- XXX: audio file id\n",
    "- YY: seems to be the compressor revision, not that important\n",
    "- Z: compressor/limiter switch either 0 or 1. \n",
    "- WW: peak reduction switch, from 0-100. \n",
    "\n",
    "In the other notebook I already removed pairs of audio which were out of phase (an error in the creation of the dataset), so we can proceed with extracting the data from the track files as described above. \n",
    "\n",
    " The input data will be:\n",
    "- Raw audio segment.\n",
    "- Compressor / Limiter Switch (0 or 1 resp.).\n",
    "- Compressor peak reduction (0 - 100).\n",
    "Where the target will be the corresponding processed audio segment."
   ]
  },
  {
   "cell_type": "code",
   "execution_count": 41,
   "metadata": {},
   "outputs": [],
   "source": [
    "# Get list of unique track ids by parsing the info in the file names\n",
    "import os\n",
    "import pandas as pd\n",
    "from collections import defaultdict\n",
    "\n",
    "\n",
    "def get_track_ids(track_paths):\n",
    "    \"\"\"\n",
    "    Gets a list of track_ids which are unique from the given track_paths\n",
    "    \"\"\"\n",
    "    track_ids = [track_path.split(\"_\")[1] for track_path in track_paths]\n",
    "    numeric_ids_only = [track for track in track_ids if track.isdigit()]\n",
    "    return list(set(numeric_ids_only))\n",
    "\n",
    "\n",
    "def prepare_metadata_records(splits):\n",
    "    \"\"\"\n",
    "    Gets a set of parsed metadata records for every track in each split.\n",
    "    - Creates a dict with split names as keys e.g {'train': .., 'test': .., ..}\n",
    "    - The value corresponding to each split name is a list of nested records of the form [{'track_id':{'X_path':xxx, 'param1':yyy, 'param2':zzz, 'Y_path':www}, ..]\n",
    "    \"\"\"\n",
    "    metadata = defaultdict(list)\n",
    "    for split in splits:\n",
    "        split_name = split.split(\"/\")[-2].lower()  # unfortunate naming of variable here\n",
    "        track_paths = os.listdir(split)\n",
    "        track_ids = get_track_ids(track_paths)\n",
    "\n",
    "        split_metadata = []\n",
    "        for track_id in track_ids:\n",
    "            track_level_data = defaultdict(dict)\n",
    "            for track_path in track_paths:\n",
    "                if track_id in track_path and \"target\" in track_path:\n",
    "                    split_path = track_path.split(\"_\")\n",
    "                    compress_or_limit = split_path[-3]\n",
    "                    peak_reduction = split_path[-1].split(\".wav\")[0]\n",
    "\n",
    "                    track_level_data[track_id][\"raw_audio_path\"] = (\n",
    "                        split + \"input_\" + track_id + \"_.wav\"\n",
    "                    )\n",
    "                    track_level_data[track_id][\"compress_or_limit\"] = compress_or_limit\n",
    "                    track_level_data[track_id][\"peak_reduction\"] = peak_reduction\n",
    "                    track_level_data[track_id][\"processed_audio_path\"] = (\n",
    "                        split + track_path\n",
    "                    )\n",
    "            split_metadata.append(track_level_data)\n",
    "        metadata[split_name] = split_metadata\n",
    "    return metadata\n",
    "\n",
    "\n",
    "def turn_records_into_df(records):\n",
    "    \"\"\"\n",
    "    Turns the metadata records into a nice and simple dataframe\n",
    "    \"\"\"\n",
    "    flattened_data = []\n",
    "    for split, records in records.items():\n",
    "        for record in records:\n",
    "            for record_id, details in record.items():\n",
    "                flattened_data.append(\n",
    "                    {\"split\": split, \"track_id\": record_id, **details}\n",
    "                )\n",
    "\n",
    "    return pd.DataFrame(flattened_data)\n",
    "\n",
    "\n",
    "splits = [\"./data/Train/\", \"./data/Test/\", \"./data/Val/\"]\n",
    "records = prepare_metadata_records(splits)\n",
    "df = turn_records_into_df(records)"
   ]
  },
  {
   "cell_type": "markdown",
   "metadata": {},
   "source": [
    "Now we have our basic metadata df that will allow us to prepare each small audio segment for training, let's just do a quick sanity check to make sure we have no parsing errors:"
   ]
  },
  {
   "cell_type": "code",
   "execution_count": 42,
   "metadata": {},
   "outputs": [
    {
     "data": {
      "text/plain": [
       "split                   0\n",
       "track_id                0\n",
       "raw_audio_path          0\n",
       "compress_or_limit       0\n",
       "peak_reduction          0\n",
       "processed_audio_path    0\n",
       "dtype: int64"
      ]
     },
     "execution_count": 42,
     "metadata": {},
     "output_type": "execute_result"
    }
   ],
   "source": [
    "df.isna().sum()"
   ]
  },
  {
   "cell_type": "code",
   "execution_count": 43,
   "metadata": {},
   "outputs": [
    {
     "data": {
      "text/plain": [
       "0"
      ]
     },
     "execution_count": 43,
     "metadata": {},
     "output_type": "execute_result"
    }
   ],
   "source": [
    "df.track_id.duplicated().sum()"
   ]
  },
  {
   "cell_type": "markdown",
   "metadata": {},
   "source": [
    "Looks good, no NaNs or duplicates. Let's just fix the types of some columns as our model will need them to have the correct types later:"
   ]
  },
  {
   "cell_type": "code",
   "execution_count": 44,
   "metadata": {},
   "outputs": [],
   "source": [
    "df[\"track_id\"] = df[\"track_id\"].astype(int)\n",
    "df[\"compress_or_limit\"] = df[\"compress_or_limit\"].astype(int)\n",
    "df[\"peak_reduction\"] = df[\"peak_reduction\"].astype(int)"
   ]
  },
  {
   "cell_type": "markdown",
   "metadata": {},
   "source": [
    "## Creating Audio Segments for Training + Evaluation + Challenges\n",
    "Each file in the dataset is not a unique track, but rather a very long (can be up to 20 minutes) collage of different tracks, stitched together without interruption. All tracks in the file are compressed with the same compression parameters indicated in the \"target\" file name. We also have access to the raw, uncompressed audio file corresponding to this.\n",
    "\n",
    "Our model will not have an input size of 20 minutes and will not handle variable input sizes effectively, so we need to break each file into chunks of 3-10 seconds and process them one by one, these are common input sizes in the literature for audio ML (e.g ShortChunk has 15 seconds, whereas MusiCNN has 3 seconds). \n",
    "\n",
    "This means that from 1 file of 20 minutes, we will actually many training examples for a model with 1 second input length. \n",
    "\n",
    "It also means that during inference (i.e during modelling) we will not be able to process a whole file at once but will need to split the incoming audio into 3 second chunks and then process each chunk separately. We will call the incoming audio chunk the \"buffer\". This fact is actually a serious design challenge for modelling a time based effect such as compression, because a naive model architecture means it will only use incoming audio in the buffer to produce an output - but time based effects like compression have parameters such as attack/release (discussed above) which means audio in the buffer should trigger compression in the next incoming buffer. If this is not clear, imagine that our 3 second audio signal in the buffer has a loud peak at 2.99s. If our compressor has an attack time of 0,015s (15ms), the compression will only \"kick in\" or be triggered _after_ the current signal is out of the buffer (2.99 + 0.15 > 3.0), affecting only the start of the next 3 second signal coming into the buffer. This means there is a potential dependency between windows that are being processed independently by our model. The same problem exists in the realm of DSP audio plugin design, where these \"transient\" errors are often treated using a lookahead buffer. This challenge may end up motivating the design of our model later if naive models prove to suffer from this possible complication."
   ]
  },
  {
   "cell_type": "markdown",
   "metadata": {},
   "source": [
    "First, we will load a full 15-20 minute audio file and split it up into windows of size 1 seconds. We will have a window stride of 0.5 second. This means that we will keep a bit of the \"last\" window in the current window, which is a common technique in audio processing / time series analysis to have smoother transitions between adjacent windows. Let's make a helper function that will take an object of size N, a window of size K (K <= N) and a stride length S and compute how many overlapping intervals we can compute from our audio. For an example of what this means look below for an explicit example."
   ]
  },
  {
   "cell_type": "raw",
   "metadata": {},
   "source": [
    "- - - - -\n",
    "\n",
    "- - \n",
    "  - -\n",
    "    - -\n",
    "      - -\n",
    "\n",
    "-> 4 overlapping intervals of size 2 and stride 1 fit in object of length 5"
   ]
  },
  {
   "cell_type": "code",
   "execution_count": 45,
   "metadata": {},
   "outputs": [],
   "source": [
    "def overlapping_interval_count(object_size, window_size, window_stride):\n",
    "    \"\"\"all lengths in samples here\"\"\"\n",
    "    stride = 0\n",
    "    count = 0\n",
    "    while True:\n",
    "        pos = stride + window_size \n",
    "        if pos >= object_size:\n",
    "            return count + 1 # gives number of overlapping intervals that fit in the \n",
    "        count += 1\n",
    "        stride += window_stride"
   ]
  },
  {
   "cell_type": "markdown",
   "metadata": {},
   "source": [
    "Now let's create our training dataset"
   ]
  },
  {
   "cell_type": "code",
   "execution_count": null,
   "metadata": {},
   "outputs": [],
   "source": []
  },
  {
   "cell_type": "code",
   "execution_count": null,
   "metadata": {},
   "outputs": [],
   "source": []
  },
  {
   "cell_type": "code",
   "execution_count": null,
   "metadata": {},
   "outputs": [],
   "source": []
  },
  {
   "cell_type": "code",
   "execution_count": null,
   "metadata": {},
   "outputs": [],
   "source": []
  },
  {
   "cell_type": "code",
   "execution_count": null,
   "metadata": {},
   "outputs": [],
   "source": []
  },
  {
   "cell_type": "code",
   "execution_count": null,
   "metadata": {},
   "outputs": [],
   "source": []
  },
  {
   "cell_type": "code",
   "execution_count": null,
   "metadata": {},
   "outputs": [],
   "source": []
  },
  {
   "cell_type": "code",
   "execution_count": null,
   "metadata": {},
   "outputs": [],
   "source": []
  },
  {
   "cell_type": "code",
   "execution_count": null,
   "metadata": {},
   "outputs": [],
   "source": []
  },
  {
   "cell_type": "code",
   "execution_count": null,
   "metadata": {},
   "outputs": [],
   "source": []
  },
  {
   "cell_type": "code",
   "execution_count": null,
   "metadata": {},
   "outputs": [],
   "source": []
  },
  {
   "cell_type": "code",
   "execution_count": null,
   "metadata": {},
   "outputs": [],
   "source": []
  },
  {
   "cell_type": "code",
   "execution_count": null,
   "metadata": {},
   "outputs": [],
   "source": []
  },
  {
   "cell_type": "code",
   "execution_count": null,
   "metadata": {},
   "outputs": [],
   "source": []
  },
  {
   "cell_type": "code",
   "execution_count": 46,
   "metadata": {},
   "outputs": [],
   "source": [
    "import torchaudio\n",
    "import torch \n",
    "from torch.utils.data import Dataset\n",
    "\n",
    "\n",
    "class AudioDataset(Dataset):\n",
    "    def __init__(\n",
    "        self,\n",
    "        input_audio_paths,\n",
    "        target_audio_paths,\n",
    "        window_size=0.1,\n",
    "        overlap=0.05,\n",
    "        params=None,\n",
    "    ):\n",
    "        self.input_audio_paths = input_audio_paths\n",
    "        self.target_audio_paths = target_audio_paths\n",
    "        self.window_size = window_size  # in seconds\n",
    "        self.window_size_samples = self.window_size * 44100 # in samples\n",
    "        self.overlap = overlap  # in seconds\n",
    "        self.overlap_samples = self.overlap * 44100 # in samples\n",
    "        self.params = params  # compressor parameters i.e compress-limit switch, peak reduction\n",
    "        self.window_to_audio_mapping = self.window_index_to_audio_indices() # map an\n",
    "        self.examples = self.create_examples()\n",
    "\n",
    "    def __len__(self):\n",
    "        return self.dataset_size\n",
    "\n",
    "    def __getitem__(self, window_index):\n",
    "        \"\"\" \n",
    "        Converts a window index to a tuple of audio indices, i.e the first window (0)\n",
    "        corresponds to the first audio (0) and the first window in this audio (0). \n",
    "\n",
    "        The set of {window_index: (audio_index, window_index_in_audio)} is precomputed \n",
    "        in the `self.window_to_audio_mapping method`. \n",
    "        \n",
    "        We use this tuple of indices to \n",
    "        load the actual audio data (the stream of samples), lazily, for training. \n",
    "        \"\"\"\n",
    "        audio_index, window_index_in_audio = self.window_to_audio_mapping[window_index]\n",
    "        input_audio_path, target_audio_path, params = self.examples[audio_index]\n",
    "\n",
    "        input_waveform, _ = torchaudio.load(\n",
    "            input_audio_path,\n",
    "            num_frames=self.window_size_samples,\n",
    "            frame_offset=window_index_in_audio * self.overlap_samples,\n",
    "        ) \n",
    "\n",
    "        target_waveform, _ = torchaudio.load(\n",
    "            target_audio_path,\n",
    "            num_frames=self.window_size_samples,\n",
    "            frame_offset=window_index_in_audio * self.overlap_samples,\n",
    "        )\n",
    "        \n",
    "        input_waveform = input_waveform[0] # 1D tensor e.g [0.1, 0.03, ...] of length window size * sample rate\n",
    "        target_waveform = target_waveform[0]\n",
    "\n",
    "        input_waveform = (input_waveform + 1.0) / 2.0 # Rescale (invertibly) values that go from -1 to 1, to be between 0 and 1\n",
    "        target_waveform = (target_waveform + 1.0) / 2.0 \n",
    "\n",
    "        compress_limit = torch.tensor(params[0], dtype=torch.float32)\n",
    "        peak_reduction = torch.tensor(params[1]/100.0, dtype=torch.float32) # Ensure the peak reduction is between 0 and 1, not 0 - 100\n",
    "\n",
    "        return (input_waveform, compress_limit, peak_reduction), target_waveform\n",
    "\n",
    "    def window_index_to_audio_indices(self):\n",
    "        \"\"\" \n",
    "        Our audio dataset constructor takes in a list of input/target audio paths. In the SignalTrain dataset, each \n",
    "        individual audio is very long, up to 20 mins. Our model will have a much smaller input size. Therefore, we \n",
    "        will use a given audio file to create several training examples by taking overlapping windows of for example 3 seconds \n",
    "        from each file. e.g 0-3s, 1-4s, 2-5s all the way up until we use all 20 minutes of the audio file.\n",
    "\n",
    "        Since __getitem__ method is lazy, it will try to load each window of audio data on the fly instead of preparing\n",
    "        them in advance. This means that when we say __getitem__(293), we need to know which audio file corresponds to \n",
    "        window 293, and where precisely this window is situated in that audio file, so that we can load the right data.\n",
    "        \n",
    "        For example, window with index 0 can be identified with the first audio file, and the first window in that audio i.e (0,0).\n",
    "        \n",
    "        This function is used to pre-compute the mapping from a window index into a tuple of indices identifying both the audio file,\n",
    "        and the position of this window in that audio file so that we can load the audio data on the fly in __getitem__. \n",
    "        \"\"\"\n",
    "        cumulative_window_index = 0\n",
    "        mapping = {}\n",
    "        for audio_index, path in enumerate(self.input_audio_paths):\n",
    "            num_windows = self.calculate_num_windows(path)\n",
    "            for i in range(num_windows):\n",
    "                mapping[cumulative_window_index + i] = (\n",
    "                    audio_index,\n",
    "                    i,\n",
    "                )  # e.g (3rd audio, 4th window of 3rd audio)\n",
    "            cumulative_window_index += num_windows\n",
    "        self.dataset_size = len(mapping)\n",
    "\n",
    "        return mapping\n",
    "\n",
    "    def calculate_num_windows(self, audio_path):\n",
    "        waveform, sample_rate = torchaudio.load(audio_path)\n",
    "        window_samples = self.window_size * sample_rate\n",
    "        overlap_samples = self.overlap * sample_rate\n",
    "        num_windows = overlapping_interval_count(\n",
    "            waveform.size(1), window_samples, overlap_samples\n",
    "        )\n",
    "        return num_windows\n",
    "\n",
    "    def create_examples(self):\n",
    "        return list(zip(self.input_audio_paths, self.target_audio_paths, self.params))\n",
    "\n",
    "\n",
    "# Example usage with multiple paths and parameters\n",
    "train_df = df[df.split == \"train\"]\n",
    "test_df = df[df.split == \"test\"]\n",
    "val_df = df[df.split == \"val\"]\n",
    "\n",
    "train_dataset = AudioDataset(\n",
    "    train_df[\"raw_audio_path\"].to_list(),\n",
    "    train_df[\"processed_audio_path\"].to_list(),\n",
    "    window_size=0.01,\n",
    "    overlap=0.005,\n",
    "    params=list(zip(train_df[\"compress_or_limit\"], train_df[\"peak_reduction\"])),\n",
    ")\n",
    "test_dataset = AudioDataset(\n",
    "    test_df[\"raw_audio_path\"].to_list(),\n",
    "    test_df[\"processed_audio_path\"].to_list(),\n",
    "    window_size=0.01,\n",
    "    overlap=0.005,\n",
    "    params=list(zip(test_df[\"compress_or_limit\"], test_df[\"peak_reduction\"])),\n",
    ")\n",
    "val_dataset = AudioDataset(\n",
    "    val_df[\"raw_audio_path\"].to_list(),\n",
    "    val_df[\"processed_audio_path\"].to_list(),\n",
    "    window_size=0.01,\n",
    "    overlap=0.005,\n",
    "    params=list(zip(val_df[\"compress_or_limit\"], val_df[\"peak_reduction\"])),\n",
    ")"
   ]
  },
  {
   "cell_type": "markdown",
   "metadata": {},
   "source": [
    "Note: \n",
    "- Torchaudio loads audio as a tuple containing a 2D tensor and the sample rate. The 2D tensor is structured as (num_channels, num_frames). In the case of mono audio (1 channel), it still follows this format, but with the number of channels being 1."
   ]
  },
  {
   "cell_type": "markdown",
   "metadata": {},
   "source": [
    "Below is an example of what our input / output data will look like:"
   ]
  },
  {
   "cell_type": "code",
   "execution_count": 47,
   "metadata": {},
   "outputs": [
    {
     "name": "stdout",
     "output_type": "stream",
     "text": [
      "input waveform:\n",
      "tensor([0.4200, 0.4219, 0.4201, 0.4143, 0.4059, 0.3955, 0.3854, 0.3816, 0.3848,\n",
      "        0.3880, 0.3871, 0.3857, 0.3873, 0.3886, 0.3815, 0.3664, 0.3570, 0.3626,\n",
      "        0.3739, 0.3795, 0.3817, 0.3871, 0.3931, 0.3941, 0.3915, 0.3900, 0.3900,\n",
      "        0.3906, 0.3937, 0.4004, 0.4081, 0.4152, 0.4216, 0.4260, 0.4273, 0.4268,\n",
      "        0.4287, 0.4355, 0.4402, 0.4364, 0.4345, 0.4453, 0.4592, 0.4667, 0.4786,\n",
      "        0.5056, 0.5427, 0.5806, 0.6131, 0.6332, 0.6272, 0.5823, 0.5208, 0.5022,\n",
      "        0.5538, 0.6329, 0.6812, 0.6703, 0.6021, 0.5143, 0.4588, 0.4493, 0.4684,\n",
      "        0.5023, 0.5241, 0.5021, 0.4567, 0.4379, 0.4451, 0.4406, 0.4164, 0.3920,\n",
      "        0.3772, 0.3701, 0.3672, 0.3643, 0.3596, 0.3534, 0.3462, 0.3404, 0.3387,\n",
      "        0.3381, 0.3326, 0.3202, 0.3069, 0.3010, 0.3018, 0.3027, 0.3023, 0.3046,\n",
      "        0.3076, 0.3068, 0.3044, 0.3036, 0.3009, 0.2934, 0.2878, 0.2904, 0.2945,\n",
      "        0.2952, 0.2991, 0.3085, 0.3158, 0.3197, 0.3238, 0.3235, 0.3173, 0.3129,\n",
      "        0.3098, 0.3039, 0.3022, 0.3099, 0.3157, 0.3116, 0.3064, 0.3097, 0.3206,\n",
      "        0.3335, 0.3452, 0.3548, 0.3611, 0.3647, 0.3721, 0.3853, 0.3970, 0.4008,\n",
      "        0.3970, 0.3870, 0.3772, 0.3801, 0.3954, 0.4097, 0.4192, 0.4272, 0.4265,\n",
      "        0.4144, 0.4084, 0.4215, 0.4405, 0.4498, 0.4559, 0.4725, 0.4981, 0.5197,\n",
      "        0.5297, 0.5328, 0.5403, 0.5555, 0.5661, 0.5591, 0.5356, 0.5110, 0.5092,\n",
      "        0.5432, 0.5896, 0.6069, 0.5879, 0.5594, 0.5360, 0.5187, 0.5190, 0.5391,\n",
      "        0.5527, 0.5426, 0.5311, 0.5455, 0.5748, 0.5819, 0.5523, 0.5154, 0.5143,\n",
      "        0.5630, 0.6392, 0.7093, 0.7509, 0.7583, 0.7269, 0.6648, 0.6212, 0.6445,\n",
      "        0.7344, 0.7913, 0.7865, 0.7632, 0.7279, 0.7332, 0.7549, 0.7711, 0.7470,\n",
      "        0.7118, 0.7187, 0.7596, 0.7625, 0.7066, 0.6665, 0.6680, 0.6637, 0.6215,\n",
      "        0.6071, 0.6519, 0.7107, 0.7146, 0.6857, 0.6693, 0.6825, 0.6895, 0.6767,\n",
      "        0.6529, 0.6512, 0.6748, 0.7050, 0.7081, 0.6895, 0.6720, 0.6742, 0.6791,\n",
      "        0.6745, 0.6602, 0.6513, 0.6463, 0.6392, 0.6253, 0.6151, 0.6118, 0.6129,\n",
      "        0.6128, 0.6171, 0.6228, 0.6190, 0.5990, 0.5797, 0.5773, 0.5883, 0.5941,\n",
      "        0.5885, 0.5731, 0.5511, 0.5257, 0.5084, 0.5066, 0.5162, 0.5242, 0.5219,\n",
      "        0.5075, 0.4894, 0.4797, 0.4849, 0.4975, 0.5089, 0.5194, 0.5308, 0.5293,\n",
      "        0.5040, 0.4735, 0.4702, 0.4944, 0.5147, 0.5124, 0.5015, 0.5003, 0.5103,\n",
      "        0.5229, 0.5303, 0.5279, 0.5185, 0.5098, 0.5060, 0.5067, 0.5107, 0.5127,\n",
      "        0.5027, 0.4813, 0.4666, 0.4756, 0.5072, 0.5432, 0.5548, 0.5180, 0.4456,\n",
      "        0.3919, 0.4026, 0.4661, 0.5305, 0.5504, 0.5125, 0.4438, 0.4048, 0.4374,\n",
      "        0.5133, 0.5610, 0.5491, 0.5124, 0.4988, 0.5168, 0.5366, 0.5278, 0.4914,\n",
      "        0.4544, 0.4361, 0.4379, 0.4645, 0.5199, 0.5751, 0.5874, 0.5562, 0.5183,\n",
      "        0.4906, 0.4681, 0.4622, 0.4865, 0.5235, 0.5517, 0.5720, 0.5716, 0.5193,\n",
      "        0.4344, 0.3999, 0.4592, 0.5551, 0.6069, 0.5973, 0.5572, 0.5097, 0.4551,\n",
      "        0.3928, 0.3445, 0.3489, 0.4179, 0.5076, 0.5577, 0.5505, 0.5090, 0.4622,\n",
      "        0.4330, 0.4305, 0.4373, 0.4333, 0.4291, 0.4437, 0.4645, 0.4706, 0.4680,\n",
      "        0.4651, 0.4500, 0.4221, 0.4042, 0.4002, 0.3905, 0.3757, 0.3735, 0.3770,\n",
      "        0.3679, 0.3546, 0.3514, 0.3484, 0.3382, 0.3352, 0.3410, 0.3342, 0.3115,\n",
      "        0.2967, 0.3014, 0.3148, 0.3250, 0.3232, 0.3057, 0.2873, 0.2841, 0.2826,\n",
      "        0.2658, 0.2520, 0.2584, 0.2591, 0.2390, 0.2453, 0.3144, 0.3937, 0.4044,\n",
      "        0.3465, 0.2825, 0.2530, 0.2535, 0.2686, 0.2971, 0.3506, 0.4259, 0.4797,\n",
      "        0.4677, 0.4212, 0.4231, 0.4845, 0.5195, 0.4772, 0.4193, 0.4175, 0.4488,\n",
      "        0.4521, 0.4285, 0.4201, 0.4322, 0.4358, 0.4227, 0.4087, 0.4005, 0.3933,\n",
      "        0.3907, 0.3964, 0.4003, 0.3946, 0.3883, 0.3908, 0.3974, 0.4043, 0.4177,\n",
      "        0.4352, 0.4376, 0.4148, 0.3860, 0.3833, 0.4194, 0.4718, 0.4979, 0.4773,\n",
      "        0.4421, 0.4420, 0.4799, 0.5051, 0.4789, 0.4227, 0.3914, 0.4157, 0.4743,\n",
      "        0.5169, 0.5183, 0.5047, 0.5128, 0.5394, 0.5586, 0.5698, 0.5884, 0.6058]), shape: torch.Size([441])\n",
      "\n",
      "compress or limit:\n",
      "1.0, shape: torch.Size([])\n",
      "\n",
      "peak reduction:\n",
      "0.20000000298023224, shape: torch.Size([])\n",
      "\n",
      "target waveform:\n",
      "tensor([0.4055, 0.4090, 0.4089, 0.4043, 0.3963, 0.3859, 0.3743, 0.3669, 0.3681,\n",
      "        0.3729, 0.3739, 0.3719, 0.3724, 0.3753, 0.3723, 0.3582, 0.3433, 0.3432,\n",
      "        0.3556, 0.3651, 0.3679, 0.3720, 0.3794, 0.3832, 0.3814, 0.3790, 0.3787,\n",
      "        0.3791, 0.3811, 0.3871, 0.3957, 0.4038, 0.4112, 0.4171, 0.4200, 0.4199,\n",
      "        0.4202, 0.4258, 0.4335, 0.4330, 0.4276, 0.4337, 0.4501, 0.4609, 0.4693,\n",
      "        0.4917, 0.5289, 0.5707, 0.6089, 0.6369, 0.6441, 0.6124, 0.5454, 0.4979,\n",
      "        0.5255, 0.6092, 0.6813, 0.6963, 0.6440, 0.5488, 0.4688, 0.4407, 0.4522,\n",
      "        0.4848, 0.5195, 0.5164, 0.4696, 0.4325, 0.4343, 0.4394, 0.4196, 0.3904,\n",
      "        0.3702, 0.3600, 0.3560, 0.3536, 0.3494, 0.3435, 0.3362, 0.3290, 0.3255,\n",
      "        0.3255, 0.3226, 0.3121, 0.2970, 0.2869, 0.2861, 0.2881, 0.2881, 0.2893,\n",
      "        0.2934, 0.2946, 0.2922, 0.2909, 0.2899, 0.2838, 0.2757, 0.2753, 0.2810,\n",
      "        0.2832, 0.2850, 0.2938, 0.3040, 0.3092, 0.3137, 0.3165, 0.3118, 0.3055,\n",
      "        0.3028, 0.2977, 0.2926, 0.2977, 0.3073, 0.3073, 0.3003, 0.2998, 0.3093,\n",
      "        0.3234, 0.3370, 0.3487, 0.3572, 0.3619, 0.3673, 0.3798, 0.3947, 0.4025,\n",
      "        0.4016, 0.3932, 0.3808, 0.3772, 0.3902, 0.4081, 0.4200, 0.4294, 0.4341,\n",
      "        0.4247, 0.4122, 0.4184, 0.4399, 0.4550, 0.4605, 0.4728, 0.4982, 0.5252,\n",
      "        0.5412, 0.5458, 0.5503, 0.5641, 0.5800, 0.5809, 0.5611, 0.5316, 0.5162,\n",
      "        0.5380, 0.5892, 0.6251, 0.6172, 0.5860, 0.5580, 0.5360, 0.5266, 0.5419,\n",
      "        0.5643, 0.5630, 0.5456, 0.5481, 0.5782, 0.6006, 0.5829, 0.5390, 0.5172,\n",
      "        0.5498, 0.6255, 0.7083, 0.7671, 0.7893, 0.7725, 0.7136, 0.6495, 0.6404,\n",
      "        0.7170, 0.8094, 0.8221, 0.8032, 0.7641, 0.7476, 0.7710, 0.7927, 0.7885,\n",
      "        0.7428, 0.7293, 0.7641, 0.7970, 0.7525, 0.6927, 0.6773, 0.6870, 0.6524,\n",
      "        0.6145, 0.6378, 0.7085, 0.7397, 0.7149, 0.6849, 0.6891, 0.7042, 0.6991,\n",
      "        0.6736, 0.6584, 0.6744, 0.7091, 0.7268, 0.7124, 0.6889, 0.6824, 0.6899,\n",
      "        0.6896, 0.6765, 0.6626, 0.6566, 0.6507, 0.6381, 0.6235, 0.6173, 0.6173,\n",
      "        0.6177, 0.6194, 0.6263, 0.6280, 0.6125, 0.5875, 0.5766, 0.5849, 0.5959,\n",
      "        0.5944, 0.5814, 0.5600, 0.5329, 0.5087, 0.5000, 0.5071, 0.5184, 0.5211,\n",
      "        0.5103, 0.4904, 0.4747, 0.4740, 0.4865, 0.5000, 0.5111, 0.5237, 0.5304,\n",
      "        0.5129, 0.4771, 0.4584, 0.4763, 0.5051, 0.5124, 0.5007, 0.4936, 0.5006,\n",
      "        0.5146, 0.5258, 0.5276, 0.5194, 0.5085, 0.5021, 0.5012, 0.5043, 0.5088,\n",
      "        0.5043, 0.4844, 0.4622, 0.4606, 0.4869, 0.5277, 0.5553, 0.5378, 0.4688,\n",
      "        0.3932, 0.3743, 0.4269, 0.5049, 0.5503, 0.5329, 0.4642, 0.3996, 0.4027,\n",
      "        0.4763, 0.5500, 0.5617, 0.5239, 0.4941, 0.5025, 0.5290, 0.5346, 0.5040,\n",
      "        0.4596, 0.4307, 0.4244, 0.4413, 0.4902, 0.5570, 0.5931, 0.5734, 0.5297,\n",
      "        0.4956, 0.4694, 0.4528, 0.4663, 0.5054, 0.5411, 0.5656, 0.5785, 0.5471,\n",
      "        0.4597, 0.3876, 0.4134, 0.5157, 0.5994, 0.6121, 0.5760, 0.5262, 0.4711,\n",
      "        0.4060, 0.3425, 0.3196, 0.3695, 0.4679, 0.5461, 0.5612, 0.5260, 0.4735,\n",
      "        0.4316, 0.4182, 0.4259, 0.4274, 0.4193, 0.4262, 0.4502, 0.4646, 0.4630,\n",
      "        0.4605, 0.4517, 0.4246, 0.3977, 0.3897, 0.3845, 0.3683, 0.3590, 0.3638,\n",
      "        0.3608, 0.3453, 0.3372, 0.3368, 0.3282, 0.3195, 0.3245, 0.3259, 0.3060,\n",
      "        0.2830, 0.2805, 0.2939, 0.3079, 0.3126, 0.3000, 0.2772, 0.2669, 0.2689,\n",
      "        0.2577, 0.2370, 0.2363, 0.2457, 0.2306, 0.2166, 0.2656, 0.3610, 0.4099,\n",
      "        0.3695, 0.2928, 0.2441, 0.2350, 0.2472, 0.2715, 0.3173, 0.3930, 0.4693,\n",
      "        0.4870, 0.4399, 0.4105, 0.4594, 0.5238, 0.5097, 0.4388, 0.4081, 0.4381,\n",
      "        0.4600, 0.4402, 0.4194, 0.4272, 0.4389, 0.4305, 0.4133, 0.4025, 0.3947,\n",
      "        0.3891, 0.3922, 0.3995, 0.3975, 0.3888, 0.3876, 0.3945, 0.4016, 0.4125,\n",
      "        0.4317, 0.4438, 0.4295, 0.3961, 0.3779, 0.4012, 0.4570, 0.5027, 0.4995,\n",
      "        0.4594, 0.4388, 0.4685, 0.5103, 0.5056, 0.4501, 0.3975, 0.3994, 0.4552,\n",
      "        0.5155, 0.5342, 0.5191, 0.5152, 0.5399, 0.5666, 0.5796, 0.5953, 0.6178]), shape: torch.Size([441])\n",
      "\n"
     ]
    }
   ],
   "source": [
    "(input_waveform, cl, pr), target_waveform = train_dataset.__getitem__(400)\n",
    "\n",
    "print(f\"input waveform:\\n{input_waveform}, shape: {input_waveform.shape}\\n\")\n",
    "print(f\"compress or limit:\\n{cl}, shape: {cl.shape}\\n\")\n",
    "print(f\"peak reduction:\\n{pr}, shape: {pr.shape}\\n\")\n",
    "print(f\"target waveform:\\n{target_waveform}, shape: {target_waveform.shape}\\n\")"
   ]
  },
  {
   "cell_type": "markdown",
   "metadata": {},
   "source": [
    "## Model Architecture"
   ]
  },
  {
   "cell_type": "markdown",
   "metadata": {},
   "source": [
    "Let's consider a fairly standard audio sequence modelling setup. We will use an LSTM to model the input audio sequence and obtain a sequence of the same length as the input sequence, but where for each time step we will have constructed a \"hidden representation\" i.e an input of length N will have an output of shape (N, H) where H is the hidden dimension of the LSTM. As for the compressor parameters, we will embed them into dense representations of size K, and then transpose them. We can then flatten our LSTM output to get a 1D tensor, concat it with our transposed compressor parameters and then pass all of this into a FFN to recover an output of length N (our target audio). Here's an example diagram:\n",
    "\n",
    "<img src=\"assets/sample-archi.png\" alt=\"Image Alt Text\" width=\"75%\">\n",
    "\n",
    "Assuming our audio has a sample rate of 44.1kHz and we use a window size of 3 seconds, we will be predicting 132300 samples (might be a lot).\n",
    "\n",
    "Later we'll try some other architectures.."
   ]
  },
  {
   "cell_type": "code",
   "execution_count": 48,
   "metadata": {},
   "outputs": [],
   "source": [
    "X, y = train_dataset.__getitem__(0)"
   ]
  },
  {
   "cell_type": "code",
   "execution_count": 49,
   "metadata": {},
   "outputs": [
    {
     "data": {
      "text/plain": [
       "(tensor([0.5000, 0.5000, 0.5000, 0.5000, 0.5000, 0.5000, 0.5000, 0.5000, 0.5000,\n",
       "         0.5000, 0.5000, 0.5000, 0.5000, 0.5000, 0.5000, 0.5000, 0.5000, 0.5000,\n",
       "         0.5000, 0.5000, 0.5000, 0.5000, 0.5000, 0.5000, 0.5000, 0.5000, 0.5000,\n",
       "         0.5000, 0.5000, 0.5000, 0.5000, 0.5000, 0.5000, 0.5000, 0.5000, 0.5000,\n",
       "         0.5000, 0.5000, 0.5000, 0.5000, 0.5000, 0.5000, 0.5000, 0.5000, 0.5000,\n",
       "         0.5000, 0.5000, 0.5000, 0.5000, 0.5000, 0.5000, 0.5000, 0.5000, 0.5000,\n",
       "         0.5000, 0.5000, 0.5000, 0.5000, 0.5000, 0.5000, 0.5000, 0.5000, 0.5000,\n",
       "         0.5000, 0.5000, 0.5000, 0.5000, 0.5000, 0.5000, 0.5000, 0.5000, 0.5000,\n",
       "         0.5000, 0.5000, 0.5000, 0.5000, 0.5000, 0.5000, 0.5000, 0.5000, 0.5000,\n",
       "         0.5000, 0.5000, 0.5000, 0.5000, 0.5000, 0.5000, 0.5000, 0.5000, 0.5000,\n",
       "         0.5000, 0.5000, 0.5000, 0.5000, 0.5000, 0.5000, 0.5000, 0.5000, 0.5000,\n",
       "         0.5000, 0.5000, 0.5000, 0.5000, 0.5000, 0.5000, 0.5000, 0.5000, 0.5000,\n",
       "         0.5000, 0.5000, 0.5000, 0.5000, 0.5000, 0.5000, 0.5000, 0.5000, 0.5000,\n",
       "         0.5000, 0.5000, 0.5000, 0.5000, 0.5000, 0.5000, 0.5000, 0.5000, 0.5000,\n",
       "         0.5000, 0.5000, 0.5000, 0.5000, 0.5000, 0.5000, 0.5000, 0.5000, 0.5000,\n",
       "         0.5000, 0.5000, 0.5000, 0.5000, 0.5000, 0.5000, 0.5000, 0.5000, 0.5000,\n",
       "         0.5000, 0.5000, 0.5000, 0.5000, 0.5000, 0.5000, 0.5000, 0.5000, 0.5000,\n",
       "         0.5000, 0.5000, 0.5000, 0.5000, 0.5000, 0.5000, 0.5000, 0.5000, 0.5000,\n",
       "         0.5000, 0.5000, 0.5000, 0.5000, 0.5000, 0.5000, 0.5000, 0.5000, 0.5000,\n",
       "         0.5000, 0.5000, 0.5000, 0.5000, 0.5000, 0.5000, 0.5000, 0.5000, 0.5000,\n",
       "         0.5000, 0.5000, 0.5000, 0.5000, 0.5000, 0.5000, 0.5000, 0.5000, 0.5000,\n",
       "         0.5000, 0.5000, 0.5000, 0.5000, 0.5000, 0.5000, 0.5000, 0.5000, 0.5000,\n",
       "         0.5000, 0.5000, 0.5000, 0.5000, 0.5000, 0.5000, 0.5000, 0.5000, 0.5000,\n",
       "         0.5000, 0.5000, 0.5000, 0.5000, 0.5000, 0.5000, 0.5000, 0.5000, 0.5000,\n",
       "         0.5000, 0.5000, 0.5000, 0.5000, 0.5000, 0.5000, 0.5000, 0.5000, 0.5000,\n",
       "         0.5000, 0.5000, 0.5000, 0.5000, 0.5000, 0.5000, 0.5000, 0.5000, 0.5000,\n",
       "         0.5000, 0.5000, 0.5000, 0.5000, 0.5000, 0.5000, 0.5000, 0.5000, 0.5000,\n",
       "         0.5000, 0.5000, 0.5000, 0.5000, 0.5000, 0.5000, 0.5000, 0.5000, 0.5000,\n",
       "         0.5000, 0.5000, 0.5000, 0.5000, 0.5000, 0.5000, 0.5000, 0.5000, 0.5000,\n",
       "         0.5000, 0.5000, 0.5000, 0.5000, 0.5000, 0.5000, 0.5000, 0.5000, 0.5000,\n",
       "         0.5000, 0.5000, 0.5000, 0.5000, 0.5000, 0.5000, 0.5000, 0.5000, 0.5000,\n",
       "         0.5000, 0.5000, 0.5000, 0.5000, 0.5000, 0.5000, 0.5000, 0.5000, 0.5000,\n",
       "         0.5000, 0.5000, 0.5000, 0.5000, 0.5000, 0.5000, 0.5000, 0.5000, 0.5000,\n",
       "         0.5000, 0.5000, 0.5000, 0.5000, 0.5000, 0.5000, 0.5000, 0.5000, 0.5000,\n",
       "         0.5000, 0.5000, 0.5000, 0.5000, 0.5000, 0.5000, 0.5000, 0.5000, 0.5000,\n",
       "         0.5000, 0.5000, 0.5000, 0.5000, 0.5000, 0.5000, 0.5000, 0.5000, 0.5000,\n",
       "         0.5000, 0.5000, 0.5000, 0.5000, 0.5000, 0.5000, 0.5000, 0.5000, 0.5000,\n",
       "         0.5000, 0.5000, 0.5000, 0.5000, 0.5000, 0.5000, 0.5000, 0.5000, 0.5000,\n",
       "         0.5000, 0.5000, 0.5000, 0.5000, 0.5000, 0.5000, 0.5000, 0.5000, 0.5000,\n",
       "         0.5000, 0.5000, 0.5000, 0.5000, 0.5000, 0.5000, 0.5000, 0.5000, 0.5000,\n",
       "         0.5000, 0.5000, 0.5000, 0.5000, 0.5000, 0.5000, 0.5000, 0.5000, 0.5000,\n",
       "         0.5000, 0.5000, 0.5000, 0.5000, 0.5000, 0.5000, 0.5000, 0.5000, 0.5000,\n",
       "         0.5000, 0.5000, 0.5000, 0.5000, 0.5000, 0.5000, 0.5000, 0.5000, 0.5000,\n",
       "         0.5000, 0.5000, 0.5000, 0.5000, 0.5000, 0.5000, 0.5000, 0.5000, 0.5000,\n",
       "         0.5000, 0.5000, 0.5000, 0.5000, 0.5000, 0.5000, 0.5000, 0.5000, 0.5000,\n",
       "         0.5000, 0.5000, 0.5000, 0.5000, 0.5000, 0.5000, 0.5000, 0.5000, 0.5000,\n",
       "         0.5000, 0.5000, 0.5000, 0.5000, 0.5000, 0.5000, 0.5000, 0.5000, 0.5000,\n",
       "         0.5000, 0.5000, 0.5000, 0.5000, 0.5000, 0.5000, 0.5000, 0.5000, 0.5000,\n",
       "         0.5000, 0.5000, 0.5000, 0.5000, 0.5000, 0.5000, 0.5000, 0.5000, 0.5000]),\n",
       " tensor(1.),\n",
       " tensor(0.2000))"
      ]
     },
     "execution_count": 49,
     "metadata": {},
     "output_type": "execute_result"
    }
   ],
   "source": [
    "X"
   ]
  },
  {
   "cell_type": "code",
   "execution_count": 50,
   "metadata": {},
   "outputs": [
    {
     "data": {
      "text/plain": [
       "torch.Size([441])"
      ]
     },
     "execution_count": 50,
     "metadata": {},
     "output_type": "execute_result"
    }
   ],
   "source": [
    "y.shape"
   ]
  },
  {
   "cell_type": "markdown",
   "metadata": {},
   "source": [
    "for data, label in dataloader:\n",
    "    print(len(data))\n",
    "    print(data[0].shape)\n",
    "    print(data[1].shape)\n",
    "    print(data[2].shape)\n",
    "    print(label.shape)\n",
    "    raise TypeError"
   ]
  },
  {
   "cell_type": "code",
   "execution_count": 51,
   "metadata": {},
   "outputs": [
    {
     "name": "stdout",
     "output_type": "stream",
     "text": [
      "13067938\n"
     ]
    }
   ],
   "source": [
    "print(len(train_dataset))"
   ]
  },
  {
   "cell_type": "code",
   "execution_count": 52,
   "metadata": {},
   "outputs": [
    {
     "name": "stdout",
     "output_type": "stream",
     "text": [
      "Before Model\n",
      "Model initialized\n",
      "Optimizer initialized\n",
      "Loss fn initialized\n",
      "Model on GPU: LSTMModel(\n",
      "  (lstm): LSTM(1, 64)\n",
      "  (compress_switch_embedding): Embedding(1, 128)\n",
      "  (peak_reduction_embedding): Embedding(1, 128)\n",
      "  (decoder): MLPDecoder(\n",
      "    (relu1): ReLU()\n",
      "    (relu2): ReLU()\n",
      "    (relu3): ReLU()\n",
      "    (relu4): ReLU()\n",
      "    (dense1): Linear(in_features=28480, out_features=7120, bias=True)\n",
      "    (dense2): Linear(in_features=7120, out_features=3560, bias=True)\n",
      "    (dense3): Linear(in_features=3560, out_features=1780, bias=True)\n",
      "    (dense4): Linear(in_features=1780, out_features=441, bias=True)\n",
      "  )\n",
      ")\n"
     ]
    },
    {
     "ename": "RuntimeError",
     "evalue": "stack expects each tensor to be equal size, but got [441] at entry 0 and [442] at entry 2",
     "output_type": "error",
     "traceback": [
      "\u001b[0;31m---------------------------------------------------------------------------\u001b[0m",
      "\u001b[0;31mRuntimeError\u001b[0m                              Traceback (most recent call last)",
      "Cell \u001b[0;32mIn[52], line 84\u001b[0m\n\u001b[1;32m     82\u001b[0m \u001b[38;5;66;03m# Training loop\u001b[39;00m\n\u001b[1;32m     83\u001b[0m \u001b[38;5;28;01mfor\u001b[39;00m epoch \u001b[38;5;129;01min\u001b[39;00m \u001b[38;5;28mrange\u001b[39m(\u001b[38;5;241m1\u001b[39m):\n\u001b[0;32m---> 84\u001b[0m \u001b[43m    \u001b[49m\u001b[38;5;28;43;01mfor\u001b[39;49;00m\u001b[43m \u001b[49m\u001b[43mdata\u001b[49m\u001b[43m,\u001b[49m\u001b[43m \u001b[49m\u001b[43mlabel\u001b[49m\u001b[43m \u001b[49m\u001b[38;5;129;43;01min\u001b[39;49;00m\u001b[43m \u001b[49m\u001b[43mdataloader\u001b[49m\u001b[43m:\u001b[49m\n\u001b[1;32m     85\u001b[0m \u001b[43m        \u001b[49m\u001b[43mstart_time\u001b[49m\u001b[43m \u001b[49m\u001b[38;5;241;43m=\u001b[39;49m\u001b[43m \u001b[49m\u001b[43mtime\u001b[49m\u001b[38;5;241;43m.\u001b[39;49m\u001b[43mtime\u001b[49m\u001b[43m(\u001b[49m\u001b[43m)\u001b[49m\n\u001b[1;32m     87\u001b[0m \u001b[43m        \u001b[49m\u001b[43mlabel\u001b[49m\u001b[43m \u001b[49m\u001b[38;5;241;43m=\u001b[39;49m\u001b[43m \u001b[49m\u001b[43mlabel\u001b[49m\u001b[38;5;241;43m.\u001b[39;49m\u001b[43mto\u001b[49m\u001b[43m(\u001b[49m\u001b[43mdevice\u001b[49m\u001b[43m)\u001b[49m\n",
      "File \u001b[0;32m~/miniconda3/lib/python3.11/site-packages/torch/utils/data/dataloader.py:630\u001b[0m, in \u001b[0;36m_BaseDataLoaderIter.__next__\u001b[0;34m(self)\u001b[0m\n\u001b[1;32m    627\u001b[0m \u001b[38;5;28;01mif\u001b[39;00m \u001b[38;5;28mself\u001b[39m\u001b[38;5;241m.\u001b[39m_sampler_iter \u001b[38;5;129;01mis\u001b[39;00m \u001b[38;5;28;01mNone\u001b[39;00m:\n\u001b[1;32m    628\u001b[0m     \u001b[38;5;66;03m# TODO(https://github.com/pytorch/pytorch/issues/76750)\u001b[39;00m\n\u001b[1;32m    629\u001b[0m     \u001b[38;5;28mself\u001b[39m\u001b[38;5;241m.\u001b[39m_reset()  \u001b[38;5;66;03m# type: ignore[call-arg]\u001b[39;00m\n\u001b[0;32m--> 630\u001b[0m data \u001b[38;5;241m=\u001b[39m \u001b[38;5;28;43mself\u001b[39;49m\u001b[38;5;241;43m.\u001b[39;49m\u001b[43m_next_data\u001b[49m\u001b[43m(\u001b[49m\u001b[43m)\u001b[49m\n\u001b[1;32m    631\u001b[0m \u001b[38;5;28mself\u001b[39m\u001b[38;5;241m.\u001b[39m_num_yielded \u001b[38;5;241m+\u001b[39m\u001b[38;5;241m=\u001b[39m \u001b[38;5;241m1\u001b[39m\n\u001b[1;32m    632\u001b[0m \u001b[38;5;28;01mif\u001b[39;00m \u001b[38;5;28mself\u001b[39m\u001b[38;5;241m.\u001b[39m_dataset_kind \u001b[38;5;241m==\u001b[39m _DatasetKind\u001b[38;5;241m.\u001b[39mIterable \u001b[38;5;129;01mand\u001b[39;00m \\\n\u001b[1;32m    633\u001b[0m         \u001b[38;5;28mself\u001b[39m\u001b[38;5;241m.\u001b[39m_IterableDataset_len_called \u001b[38;5;129;01mis\u001b[39;00m \u001b[38;5;129;01mnot\u001b[39;00m \u001b[38;5;28;01mNone\u001b[39;00m \u001b[38;5;129;01mand\u001b[39;00m \\\n\u001b[1;32m    634\u001b[0m         \u001b[38;5;28mself\u001b[39m\u001b[38;5;241m.\u001b[39m_num_yielded \u001b[38;5;241m>\u001b[39m \u001b[38;5;28mself\u001b[39m\u001b[38;5;241m.\u001b[39m_IterableDataset_len_called:\n",
      "File \u001b[0;32m~/miniconda3/lib/python3.11/site-packages/torch/utils/data/dataloader.py:674\u001b[0m, in \u001b[0;36m_SingleProcessDataLoaderIter._next_data\u001b[0;34m(self)\u001b[0m\n\u001b[1;32m    672\u001b[0m \u001b[38;5;28;01mdef\u001b[39;00m \u001b[38;5;21m_next_data\u001b[39m(\u001b[38;5;28mself\u001b[39m):\n\u001b[1;32m    673\u001b[0m     index \u001b[38;5;241m=\u001b[39m \u001b[38;5;28mself\u001b[39m\u001b[38;5;241m.\u001b[39m_next_index()  \u001b[38;5;66;03m# may raise StopIteration\u001b[39;00m\n\u001b[0;32m--> 674\u001b[0m     data \u001b[38;5;241m=\u001b[39m \u001b[38;5;28;43mself\u001b[39;49m\u001b[38;5;241;43m.\u001b[39;49m\u001b[43m_dataset_fetcher\u001b[49m\u001b[38;5;241;43m.\u001b[39;49m\u001b[43mfetch\u001b[49m\u001b[43m(\u001b[49m\u001b[43mindex\u001b[49m\u001b[43m)\u001b[49m  \u001b[38;5;66;03m# may raise StopIteration\u001b[39;00m\n\u001b[1;32m    675\u001b[0m     \u001b[38;5;28;01mif\u001b[39;00m \u001b[38;5;28mself\u001b[39m\u001b[38;5;241m.\u001b[39m_pin_memory:\n\u001b[1;32m    676\u001b[0m         data \u001b[38;5;241m=\u001b[39m _utils\u001b[38;5;241m.\u001b[39mpin_memory\u001b[38;5;241m.\u001b[39mpin_memory(data, \u001b[38;5;28mself\u001b[39m\u001b[38;5;241m.\u001b[39m_pin_memory_device)\n",
      "File \u001b[0;32m~/miniconda3/lib/python3.11/site-packages/torch/utils/data/_utils/fetch.py:54\u001b[0m, in \u001b[0;36m_MapDatasetFetcher.fetch\u001b[0;34m(self, possibly_batched_index)\u001b[0m\n\u001b[1;32m     52\u001b[0m \u001b[38;5;28;01melse\u001b[39;00m:\n\u001b[1;32m     53\u001b[0m     data \u001b[38;5;241m=\u001b[39m \u001b[38;5;28mself\u001b[39m\u001b[38;5;241m.\u001b[39mdataset[possibly_batched_index]\n\u001b[0;32m---> 54\u001b[0m \u001b[38;5;28;01mreturn\u001b[39;00m \u001b[38;5;28;43mself\u001b[39;49m\u001b[38;5;241;43m.\u001b[39;49m\u001b[43mcollate_fn\u001b[49m\u001b[43m(\u001b[49m\u001b[43mdata\u001b[49m\u001b[43m)\u001b[49m\n",
      "File \u001b[0;32m~/miniconda3/lib/python3.11/site-packages/torch/utils/data/_utils/collate.py:265\u001b[0m, in \u001b[0;36mdefault_collate\u001b[0;34m(batch)\u001b[0m\n\u001b[1;32m    204\u001b[0m \u001b[38;5;28;01mdef\u001b[39;00m \u001b[38;5;21mdefault_collate\u001b[39m(batch):\n\u001b[1;32m    205\u001b[0m \u001b[38;5;250m    \u001b[39m\u001b[38;5;124mr\u001b[39m\u001b[38;5;124;03m\"\"\"\u001b[39;00m\n\u001b[1;32m    206\u001b[0m \u001b[38;5;124;03m        Function that takes in a batch of data and puts the elements within the batch\u001b[39;00m\n\u001b[1;32m    207\u001b[0m \u001b[38;5;124;03m        into a tensor with an additional outer dimension - batch size. The exact output type can be\u001b[39;00m\n\u001b[0;32m   (...)\u001b[0m\n\u001b[1;32m    263\u001b[0m \u001b[38;5;124;03m            >>> default_collate(batch)  # Handle `CustomType` automatically\u001b[39;00m\n\u001b[1;32m    264\u001b[0m \u001b[38;5;124;03m    \"\"\"\u001b[39;00m\n\u001b[0;32m--> 265\u001b[0m     \u001b[38;5;28;01mreturn\u001b[39;00m \u001b[43mcollate\u001b[49m\u001b[43m(\u001b[49m\u001b[43mbatch\u001b[49m\u001b[43m,\u001b[49m\u001b[43m \u001b[49m\u001b[43mcollate_fn_map\u001b[49m\u001b[38;5;241;43m=\u001b[39;49m\u001b[43mdefault_collate_fn_map\u001b[49m\u001b[43m)\u001b[49m\n",
      "File \u001b[0;32m~/miniconda3/lib/python3.11/site-packages/torch/utils/data/_utils/collate.py:142\u001b[0m, in \u001b[0;36mcollate\u001b[0;34m(batch, collate_fn_map)\u001b[0m\n\u001b[1;32m    139\u001b[0m transposed \u001b[38;5;241m=\u001b[39m \u001b[38;5;28mlist\u001b[39m(\u001b[38;5;28mzip\u001b[39m(\u001b[38;5;241m*\u001b[39mbatch))  \u001b[38;5;66;03m# It may be accessed twice, so we use a list.\u001b[39;00m\n\u001b[1;32m    141\u001b[0m \u001b[38;5;28;01mif\u001b[39;00m \u001b[38;5;28misinstance\u001b[39m(elem, \u001b[38;5;28mtuple\u001b[39m):\n\u001b[0;32m--> 142\u001b[0m     \u001b[38;5;28;01mreturn\u001b[39;00m \u001b[43m[\u001b[49m\u001b[43mcollate\u001b[49m\u001b[43m(\u001b[49m\u001b[43msamples\u001b[49m\u001b[43m,\u001b[49m\u001b[43m \u001b[49m\u001b[43mcollate_fn_map\u001b[49m\u001b[38;5;241;43m=\u001b[39;49m\u001b[43mcollate_fn_map\u001b[49m\u001b[43m)\u001b[49m\u001b[43m \u001b[49m\u001b[38;5;28;43;01mfor\u001b[39;49;00m\u001b[43m \u001b[49m\u001b[43msamples\u001b[49m\u001b[43m \u001b[49m\u001b[38;5;129;43;01min\u001b[39;49;00m\u001b[43m \u001b[49m\u001b[43mtransposed\u001b[49m\u001b[43m]\u001b[49m  \u001b[38;5;66;03m# Backwards compatibility.\u001b[39;00m\n\u001b[1;32m    143\u001b[0m \u001b[38;5;28;01melse\u001b[39;00m:\n\u001b[1;32m    144\u001b[0m     \u001b[38;5;28;01mtry\u001b[39;00m:\n",
      "File \u001b[0;32m~/miniconda3/lib/python3.11/site-packages/torch/utils/data/_utils/collate.py:142\u001b[0m, in \u001b[0;36m<listcomp>\u001b[0;34m(.0)\u001b[0m\n\u001b[1;32m    139\u001b[0m transposed \u001b[38;5;241m=\u001b[39m \u001b[38;5;28mlist\u001b[39m(\u001b[38;5;28mzip\u001b[39m(\u001b[38;5;241m*\u001b[39mbatch))  \u001b[38;5;66;03m# It may be accessed twice, so we use a list.\u001b[39;00m\n\u001b[1;32m    141\u001b[0m \u001b[38;5;28;01mif\u001b[39;00m \u001b[38;5;28misinstance\u001b[39m(elem, \u001b[38;5;28mtuple\u001b[39m):\n\u001b[0;32m--> 142\u001b[0m     \u001b[38;5;28;01mreturn\u001b[39;00m [\u001b[43mcollate\u001b[49m\u001b[43m(\u001b[49m\u001b[43msamples\u001b[49m\u001b[43m,\u001b[49m\u001b[43m \u001b[49m\u001b[43mcollate_fn_map\u001b[49m\u001b[38;5;241;43m=\u001b[39;49m\u001b[43mcollate_fn_map\u001b[49m\u001b[43m)\u001b[49m \u001b[38;5;28;01mfor\u001b[39;00m samples \u001b[38;5;129;01min\u001b[39;00m transposed]  \u001b[38;5;66;03m# Backwards compatibility.\u001b[39;00m\n\u001b[1;32m    143\u001b[0m \u001b[38;5;28;01melse\u001b[39;00m:\n\u001b[1;32m    144\u001b[0m     \u001b[38;5;28;01mtry\u001b[39;00m:\n",
      "File \u001b[0;32m~/miniconda3/lib/python3.11/site-packages/torch/utils/data/_utils/collate.py:142\u001b[0m, in \u001b[0;36mcollate\u001b[0;34m(batch, collate_fn_map)\u001b[0m\n\u001b[1;32m    139\u001b[0m transposed \u001b[38;5;241m=\u001b[39m \u001b[38;5;28mlist\u001b[39m(\u001b[38;5;28mzip\u001b[39m(\u001b[38;5;241m*\u001b[39mbatch))  \u001b[38;5;66;03m# It may be accessed twice, so we use a list.\u001b[39;00m\n\u001b[1;32m    141\u001b[0m \u001b[38;5;28;01mif\u001b[39;00m \u001b[38;5;28misinstance\u001b[39m(elem, \u001b[38;5;28mtuple\u001b[39m):\n\u001b[0;32m--> 142\u001b[0m     \u001b[38;5;28;01mreturn\u001b[39;00m \u001b[43m[\u001b[49m\u001b[43mcollate\u001b[49m\u001b[43m(\u001b[49m\u001b[43msamples\u001b[49m\u001b[43m,\u001b[49m\u001b[43m \u001b[49m\u001b[43mcollate_fn_map\u001b[49m\u001b[38;5;241;43m=\u001b[39;49m\u001b[43mcollate_fn_map\u001b[49m\u001b[43m)\u001b[49m\u001b[43m \u001b[49m\u001b[38;5;28;43;01mfor\u001b[39;49;00m\u001b[43m \u001b[49m\u001b[43msamples\u001b[49m\u001b[43m \u001b[49m\u001b[38;5;129;43;01min\u001b[39;49;00m\u001b[43m \u001b[49m\u001b[43mtransposed\u001b[49m\u001b[43m]\u001b[49m  \u001b[38;5;66;03m# Backwards compatibility.\u001b[39;00m\n\u001b[1;32m    143\u001b[0m \u001b[38;5;28;01melse\u001b[39;00m:\n\u001b[1;32m    144\u001b[0m     \u001b[38;5;28;01mtry\u001b[39;00m:\n",
      "File \u001b[0;32m~/miniconda3/lib/python3.11/site-packages/torch/utils/data/_utils/collate.py:142\u001b[0m, in \u001b[0;36m<listcomp>\u001b[0;34m(.0)\u001b[0m\n\u001b[1;32m    139\u001b[0m transposed \u001b[38;5;241m=\u001b[39m \u001b[38;5;28mlist\u001b[39m(\u001b[38;5;28mzip\u001b[39m(\u001b[38;5;241m*\u001b[39mbatch))  \u001b[38;5;66;03m# It may be accessed twice, so we use a list.\u001b[39;00m\n\u001b[1;32m    141\u001b[0m \u001b[38;5;28;01mif\u001b[39;00m \u001b[38;5;28misinstance\u001b[39m(elem, \u001b[38;5;28mtuple\u001b[39m):\n\u001b[0;32m--> 142\u001b[0m     \u001b[38;5;28;01mreturn\u001b[39;00m [\u001b[43mcollate\u001b[49m\u001b[43m(\u001b[49m\u001b[43msamples\u001b[49m\u001b[43m,\u001b[49m\u001b[43m \u001b[49m\u001b[43mcollate_fn_map\u001b[49m\u001b[38;5;241;43m=\u001b[39;49m\u001b[43mcollate_fn_map\u001b[49m\u001b[43m)\u001b[49m \u001b[38;5;28;01mfor\u001b[39;00m samples \u001b[38;5;129;01min\u001b[39;00m transposed]  \u001b[38;5;66;03m# Backwards compatibility.\u001b[39;00m\n\u001b[1;32m    143\u001b[0m \u001b[38;5;28;01melse\u001b[39;00m:\n\u001b[1;32m    144\u001b[0m     \u001b[38;5;28;01mtry\u001b[39;00m:\n",
      "File \u001b[0;32m~/miniconda3/lib/python3.11/site-packages/torch/utils/data/_utils/collate.py:119\u001b[0m, in \u001b[0;36mcollate\u001b[0;34m(batch, collate_fn_map)\u001b[0m\n\u001b[1;32m    117\u001b[0m \u001b[38;5;28;01mif\u001b[39;00m collate_fn_map \u001b[38;5;129;01mis\u001b[39;00m \u001b[38;5;129;01mnot\u001b[39;00m \u001b[38;5;28;01mNone\u001b[39;00m:\n\u001b[1;32m    118\u001b[0m     \u001b[38;5;28;01mif\u001b[39;00m elem_type \u001b[38;5;129;01min\u001b[39;00m collate_fn_map:\n\u001b[0;32m--> 119\u001b[0m         \u001b[38;5;28;01mreturn\u001b[39;00m \u001b[43mcollate_fn_map\u001b[49m\u001b[43m[\u001b[49m\u001b[43melem_type\u001b[49m\u001b[43m]\u001b[49m\u001b[43m(\u001b[49m\u001b[43mbatch\u001b[49m\u001b[43m,\u001b[49m\u001b[43m \u001b[49m\u001b[43mcollate_fn_map\u001b[49m\u001b[38;5;241;43m=\u001b[39;49m\u001b[43mcollate_fn_map\u001b[49m\u001b[43m)\u001b[49m\n\u001b[1;32m    121\u001b[0m     \u001b[38;5;28;01mfor\u001b[39;00m collate_type \u001b[38;5;129;01min\u001b[39;00m collate_fn_map:\n\u001b[1;32m    122\u001b[0m         \u001b[38;5;28;01mif\u001b[39;00m \u001b[38;5;28misinstance\u001b[39m(elem, collate_type):\n",
      "File \u001b[0;32m~/miniconda3/lib/python3.11/site-packages/torch/utils/data/_utils/collate.py:162\u001b[0m, in \u001b[0;36mcollate_tensor_fn\u001b[0;34m(batch, collate_fn_map)\u001b[0m\n\u001b[1;32m    160\u001b[0m     storage \u001b[38;5;241m=\u001b[39m elem\u001b[38;5;241m.\u001b[39m_typed_storage()\u001b[38;5;241m.\u001b[39m_new_shared(numel, device\u001b[38;5;241m=\u001b[39melem\u001b[38;5;241m.\u001b[39mdevice)\n\u001b[1;32m    161\u001b[0m     out \u001b[38;5;241m=\u001b[39m elem\u001b[38;5;241m.\u001b[39mnew(storage)\u001b[38;5;241m.\u001b[39mresize_(\u001b[38;5;28mlen\u001b[39m(batch), \u001b[38;5;241m*\u001b[39m\u001b[38;5;28mlist\u001b[39m(elem\u001b[38;5;241m.\u001b[39msize()))\n\u001b[0;32m--> 162\u001b[0m \u001b[38;5;28;01mreturn\u001b[39;00m \u001b[43mtorch\u001b[49m\u001b[38;5;241;43m.\u001b[39;49m\u001b[43mstack\u001b[49m\u001b[43m(\u001b[49m\u001b[43mbatch\u001b[49m\u001b[43m,\u001b[49m\u001b[43m \u001b[49m\u001b[38;5;241;43m0\u001b[39;49m\u001b[43m,\u001b[49m\u001b[43m \u001b[49m\u001b[43mout\u001b[49m\u001b[38;5;241;43m=\u001b[39;49m\u001b[43mout\u001b[49m\u001b[43m)\u001b[49m\n",
      "\u001b[0;31mRuntimeError\u001b[0m: stack expects each tensor to be equal size, but got [441] at entry 0 and [442] at entry 2"
     ]
    }
   ],
   "source": [
    "import torch\n",
    "import torch.nn as nn\n",
    "import time\n",
    "from torch.utils.data import DataLoader\n",
    "\n",
    "device = torch.device(\"mps\")\n",
    "\n",
    "# Hyperparameters\n",
    "sequence_length = 441  # Assuming each audio interval has this length\n",
    "batch_size = 16\n",
    "hidden_size = 64  # Experiment with different values\n",
    "fixed_embedding_size = 128\n",
    "learning_rate = 0.001\n",
    "\n",
    "dataloader = DataLoader(train_dataset, batch_size=batch_size, shuffle=True)\n",
    "\n",
    "class MLPDecoder(nn.Module):\n",
    "    def __init__(self, input_size, output_size):\n",
    "        super().__init__()\n",
    "        self.relu1 = nn.ReLU()\n",
    "        self.relu2 = nn.ReLU()\n",
    "        self.relu3 = nn.ReLU()\n",
    "        self.relu4 = nn.ReLU()\n",
    "        self.dense1 = nn.Linear(input_size, int(input_size/4))\n",
    "        self.dense2 = nn.Linear( int(input_size/4),  int(input_size/8))\n",
    "        self.dense3 = nn.Linear( int(input_size/8),  int(input_size/16))\n",
    "        self.dense4 = nn.Linear( int(input_size/16),  sequence_length)\n",
    "\n",
    "    def forward(self, x):\n",
    "        x = self.relu1(self.dense1(x))\n",
    "        x = self.relu2(self.dense2(x))\n",
    "        x = self.relu3(self.dense3(x))\n",
    "        x = self.relu4(self.dense4(x))\n",
    "        return x\n",
    "    \n",
    "class LSTMModel(nn.Module):\n",
    "    def __init__(self, input_size, hidden_size):\n",
    "        super(LSTMModel, self).__init__()\n",
    "        self.lstm = nn.LSTM(input_size, hidden_size)\n",
    "        self.compress_switch_embedding = nn.Embedding(num_embeddings=1, embedding_dim=fixed_embedding_size)\n",
    "        self.peak_reduction_embedding = nn.Embedding(num_embeddings=1, embedding_dim=fixed_embedding_size)\n",
    "        self.decoder = MLPDecoder(sequence_length*hidden_size + 2*fixed_embedding_size, sequence_length)\n",
    "\n",
    "    def forward(self, inputs):\n",
    "        lstm_input = inputs[0].to(device)\n",
    "        compress_limit_input = inputs[1].to(device)\n",
    "        peak_reduction_input = inputs[2].to(device)\n",
    "\n",
    "        # LSTM\n",
    "        input_seq = lstm_input.transpose(0, 1)\n",
    "        input_seq = input_seq.unsqueeze(2)\n",
    "        print(f\"INPUT SEQ SHAPE: {input_seq.shape}\")\n",
    "        lstm_output, (h_n, c_n) = self.lstm(input_seq)\n",
    "        transposed_lstm_output = lstm_output.transpose(1,0)\n",
    "        flattened_lstm_output = torch.flatten(transposed_lstm_output, 1,2)\n",
    "\n",
    "        # Embed Compression Switch \n",
    "        embedded_compress_switch = self.compress_switch_embedding(compress_limit_input)\n",
    "\n",
    "        # Embed PR Parameter\n",
    "        embedded_peak_reduction = self.peak_reduction_embedding(peak_reduction_input)\n",
    "\n",
    "        # Concat all embeddings\n",
    "        concat_embeddings = torch.cat([flattened_lstm_output, embedded_compress_switch, embedded_peak_reduction], dim=1)\n",
    "\n",
    "        # Pass embeddings through decoder MLP \n",
    "        prediction = self.decoder(concat_embeddings)\n",
    "\n",
    "        return prediction\n",
    "\n",
    "\n",
    "print(f\"Before Model\")\n",
    "model = LSTMModel(1, hidden_size)  # Input size is 1 due to reshaping\n",
    "print(f\"Model initialized\")\n",
    "optimizer = torch.optim.Adam(model.parameters(), lr=learning_rate)\n",
    "print(f\"Optimizer initialized\")\n",
    "loss_fn = nn.MSELoss()  # Adjust loss function if needed\n",
    "print(f\"Loss fn initialized\")\n",
    "model.to(device)\n",
    "print(f\"Model on GPU: {model}\")\n",
    "\n",
    "# Training loop\n",
    "for epoch in range(1):\n",
    "    for data, label in dataloader:\n",
    "        start_time = time.time()\n",
    "\n",
    "        label = label.to(device)\n",
    "\n",
    "        optimizer.zero_grad()\n",
    "        prediction = model(data)\n",
    "        loss = loss_fn(prediction, label)\n",
    "        loss.backward()\n",
    "        optimizer.step()\n",
    "        \n",
    "        end_time = time.time()\n",
    "        print(f\"EPOCH {epoch+1} TIME: {(end_time - start_time)/60.0} mins\")\n",
    "        print(f\"EPOCH {epoch+1} LOSS: {loss.item()}\\n\")\n",
    "\n",
    "print(\"Training complete!\")"
   ]
  },
  {
   "cell_type": "markdown",
   "metadata": {},
   "source": [
    "THE OVERLAP SAMPLES IS NOT CORRECT I THINK, IT IS A DECIMAL 44100 * 0.005 = 221.5 or so, it should probably be whole number.."
   ]
  },
  {
   "cell_type": "markdown",
   "metadata": {},
   "source": [
    "fix up shapes to match what we actually use and then make this work with the dataset object"
   ]
  }
 ],
 "metadata": {
  "kernelspec": {
   "display_name": "base",
   "language": "python",
   "name": "python3"
  },
  "language_info": {
   "codemirror_mode": {
    "name": "ipython",
    "version": 3
   },
   "file_extension": ".py",
   "mimetype": "text/x-python",
   "name": "python",
   "nbconvert_exporter": "python",
   "pygments_lexer": "ipython3",
   "version": "3.11.7"
  }
 },
 "nbformat": 4,
 "nbformat_minor": 2
}
