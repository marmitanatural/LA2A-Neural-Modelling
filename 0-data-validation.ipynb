{
 "cells": [
  {
   "cell_type": "markdown",
   "metadata": {},
   "source": [
    "## Data Validation\n",
    "I am using the SignalTrain dataset which contains raw audio signals and their corresponding compressed versions, which can be used to model the action of the comprresor used.\n",
    "\n",
    "I took the authors' advice and removed any errors in the dataset (by moving or removing certain files which are corrupted or which have corresponding pairs of audio which are actually out of phase). This is addressed below. \n",
    "\n",
    "This notebook is used to look at all the input-output audio pairs and to see if there are any audio files without a corresponding target. It also cross correlations the pairs of inputs and outputs to determine if any of the files have a relative delay that they shouldn't have. If there are phase shifted signals, this will not be good for our network as we will end up training (or validating) our model on an input and output pair which are not perfectly correlated, so it must be fixed."
   ]
  },
  {
   "cell_type": "code",
   "execution_count": 49,
   "metadata": {},
   "outputs": [],
   "source": [
    "import os \n",
    "import numpy as np\n",
    "from scipy.io import wavfile\n",
    "from scipy.signal import correlate\n",
    "\n",
    "data = {}\n",
    "splits = [\"Test\", \"Train\", \"Val\"]\n",
    "\n",
    "for split in splits:\n",
    "    split_files = os.listdir(f'data/{split}')\n",
    "    split_inputs = [audio_path for audio_path in split_files if 'LA2A' not in audio_path]\n",
    "\n",
    "    split_correspondance = {}\n",
    "    for inp in split_inputs:\n",
    "        for audio in split_files:\n",
    "            if (inp != audio) & (inp.split('_')[1] == audio.split('_')[1]):\n",
    "                split_correspondance[f\"data/{split}/{inp}\"] = f\"data/{split}/{audio}\" \n",
    "    \n",
    "    if len(split_correspondance) != len(split_inputs):\n",
    "        print(f\"Not all inputs have a target for split: {split}, {len(split_correspondance)}, {len(split_inputs)}\")\n",
    "    \n",
    "    data[split] = split_correspondance"
   ]
  },
  {
   "cell_type": "code",
   "execution_count": 50,
   "metadata": {},
   "outputs": [],
   "source": [
    "def cross_correlate(input_audio, target_audio):\n",
    "    # Load the audio files\n",
    "    fs_x, x = wavfile.read(input_audio)\n",
    "    _, y = wavfile.read(target_audio)\n",
    "\n",
    "    # Ensure that both signals have the same length\n",
    "    min_len = min(len(x), len(y))\n",
    "    x = x[:min_len]\n",
    "    y = y[:min_len]\n",
    "\n",
    "    # Cross-correlation\n",
    "    corr_result = correlate(x, y, mode='full')\n",
    "\n",
    "    # Find the time delay corresponding to the maximum correlation\n",
    "    time_delay = np.argmax(corr_result) - (len(x) - 1)\n",
    "\n",
    "    # Calculate the time delay of the signals in seconds\n",
    "    time_delay_seconds = time_delay / fs_x\n",
    "    \n",
    "    return time_delay_seconds"
   ]
  },
  {
   "cell_type": "code",
   "execution_count": 51,
   "metadata": {},
   "outputs": [
    {
     "name": "stdout",
     "output_type": "stream",
     "text": [
      "Non-zero cross correlation of the following audio from Train split: data/Train/input_147_.wav, data/Train/target_147_LA2A_3c__0__45.wav\n"
     ]
    }
   ],
   "source": [
    "for split in splits: \n",
    "    for input_audio, target_audio in data[split].items():\n",
    "        cross_correlation = cross_correlate(input_audio, target_audio)\n",
    "        if cross_correlation > 0:\n",
    "            print(f\"Non-zero cross correlation of the following audio from {split} split: {input_audio}, {target_audio}\")"
   ]
  }
 ],
 "metadata": {
  "kernelspec": {
   "display_name": "base",
   "language": "python",
   "name": "python3"
  },
  "language_info": {
   "codemirror_mode": {
    "name": "ipython",
    "version": 3
   },
   "file_extension": ".py",
   "mimetype": "text/x-python",
   "name": "python",
   "nbconvert_exporter": "python",
   "pygments_lexer": "ipython3",
   "version": "3.11.7"
  }
 },
 "nbformat": 4,
 "nbformat_minor": 2
}
